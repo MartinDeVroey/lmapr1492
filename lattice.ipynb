{
 "cells": [
  {
   "cell_type": "markdown",
   "metadata": {},
   "source": [
    "# Tâche 5: Etude de la maille"
   ]
  },
  {
   "cell_type": "code",
   "execution_count": 1,
   "metadata": {},
   "outputs": [
    {
     "name": "stdout",
     "output_type": "stream",
     "text": [
      "Full Formula (Li1 Zn1 N1)\n",
      "Reduced Formula: LiZnN\n",
      "abc   :   3.490060   3.490060   3.490060\n",
      "angles:  60.000000  60.000000  60.000000\n",
      "Sites (3)\n",
      "  #  SP       a     b     c    magmom\n",
      "---  ----  ----  ----  ----  --------\n",
      "  0  Li    0.25  0.25  0.25        -0\n",
      "  1  Zn    0.75  0.75  0.75         0\n",
      "  2  N     0     0     0           -0\n"
     ]
    }
   ],
   "source": [
    "from pymatgen.ext.matproj import MPRester\n",
    "from pymatgen.symmetry.analyzer import SpacegroupAnalyzer\n",
    "\n",
    "# Clé API MP\n",
    "with MPRester(\"1ziZTLbVkqHKwpma \") as m:\n",
    "    # Structure du matériau mp-7575\n",
    "    structure = m.get_structure_by_material_id(\"mp-7575\")\n",
    "\n",
    "print(structure)"
   ]
  },
  {
   "cell_type": "markdown",
   "metadata": {},
   "source": [
    "Les données obtenues ci dessus correspondent à la maille primitive, dans la suite de ce document nous étudirons la maille conventionelle car elle représente mieux la symétrie du cristal."
   ]
  },
  {
   "cell_type": "code",
   "execution_count": 2,
   "metadata": {},
   "outputs": [],
   "source": [
    "struct_an = SpacegroupAnalyzer(structure)\n",
    "struct_c = struct_an.get_conventional_standard_structure()#structure conventionelle\n",
    "maille = struct_c.lattice #maille directe\n",
    "mailleR = maille.reciprocal_lattice #maille réciproque"
   ]
  },
  {
   "cell_type": "markdown",
   "metadata": {},
   "source": [
    "## Vecteurs de base du réseau direct:"
   ]
  },
  {
   "cell_type": "code",
   "execution_count": 3,
   "metadata": {},
   "outputs": [
    {
     "name": "stdout",
     "output_type": "stream",
     "text": [
      "Vecteurs: \n",
      "\n",
      "4.935690 0.000000 0.000000\n",
      "0.000000 4.935690 0.000000\n",
      "0.000000 0.000000 4.935690\n",
      "\n",
      "Longeur de a: 4.935690\n",
      "Longeur de b: 4.935690\n",
      "Longeur de c: 4.935690\n",
      "\n",
      "Angle alpha: 90.000000\n",
      "Angle beta: 90.000000\n",
      "Angle gamma: 90.000000\n"
     ]
    }
   ],
   "source": [
    "# Paramètres de maille\n",
    "a = maille.a\n",
    "b = maille.b\n",
    "c= maille.c\n",
    "alpha = maille.alpha\n",
    "beta = maille.beta\n",
    "gamma = maille.gamma\n",
    "\n",
    "print(\"Vecteurs: \\n\")\n",
    "print(maille)\n",
    "\n",
    "print(\"\\nLongeur de a: %f\" %(a))\n",
    "print(\"Longeur de b: %f\" %(b))\n",
    "print(\"Longeur de c: %f\" %(c))\n",
    "\n",
    "print(\"\\nAngle alpha: %f\" %(alpha))\n",
    "print(\"Angle beta: %f\" %(beta))\n",
    "print(\"Angle gamma: %f\" %(gamma))"
   ]
  },
  {
   "cell_type": "markdown",
   "metadata": {},
   "source": [
    "Les longeurs sont en Angstroms et les angles en degrés."
   ]
  },
  {
   "cell_type": "markdown",
   "metadata": {},
   "source": [
    "## Vecteurs de base du réseau réciproque:"
   ]
  },
  {
   "cell_type": "code",
   "execution_count": 4,
   "metadata": {
    "scrolled": true
   },
   "outputs": [
    {
     "name": "stdout",
     "output_type": "stream",
     "text": [
      "Vecteurs: \n",
      "\n",
      "4.935690 0.000000 0.000000\n",
      "0.000000 4.935690 0.000000\n",
      "0.000000 0.000000 4.935690\n",
      "\n",
      "Longeur de a*: 1.273011\n",
      "Longeur de b*: 1.273011\n",
      "Longeur de c*: 1.273011\n",
      "\n",
      "Angle alpha*: 90.000000\n",
      "Angle beta*: 90.000000\n",
      "Angle gamma*: 90.000000\n"
     ]
    }
   ],
   "source": [
    "ar = mailleR.a\n",
    "br = mailleR.b\n",
    "cr = mailleR.c\n",
    "alphar = mailleR.alpha\n",
    "betar = mailleR.beta\n",
    "gammar = mailleR.gamma\n",
    "\n",
    "print(\"Vecteurs: \\n\")\n",
    "print(maille)\n",
    "\n",
    "print(\"\\nLongeur de a*: %f\" %(ar))\n",
    "print(\"Longeur de b*: %f\" %(br))\n",
    "print(\"Longeur de c*: %f\" %(cr))\n",
    "\n",
    "print(\"\\nAngle alpha*: %f\" %(alpha))\n",
    "print(\"Angle beta*: %f\" %(beta))\n",
    "print(\"Angle gamma*: %f\" %(gamma))"
   ]
  },
  {
   "cell_type": "markdown",
   "metadata": {},
   "source": [
    "Les longeurs n'ont pas d'unité et les angles sont en degrés."
   ]
  },
  {
   "cell_type": "markdown",
   "metadata": {},
   "source": [
    "## Type de maille, système cristallin et groupe ponctuel:"
   ]
  },
  {
   "cell_type": "code",
   "execution_count": 5,
   "metadata": {},
   "outputs": [
    {
     "name": "stdout",
     "output_type": "stream",
     "text": [
      "Type de maille: cubic\n",
      "Système cristallin : cubic\n",
      "Groupe ponctuel: -43m\n"
     ]
    }
   ],
   "source": [
    "print(\"Type de maille: \" + struct_an.get_lattice_type())\n",
    "print(\"Système cristallin : \" + struct_an.get_crystal_system())\n",
    "print(\"Groupe ponctuel: \" + struct_an.get_point_group_symbol())"
   ]
  },
  {
   "cell_type": "markdown",
   "metadata": {},
   "source": [
    "Note: Le LiZnN/mp-7575 a un réseau de Bravais cubique à faces centrées: son système cristalin est 'cubique' et son type de maille est 'fases centrées' (noté F)."
   ]
  }
 ],
 "metadata": {
  "kernelspec": {
   "display_name": "Python 3",
   "language": "python",
   "name": "python3"
  },
  "language_info": {
   "codemirror_mode": {
    "name": "ipython",
    "version": 3
   },
   "file_extension": ".py",
   "mimetype": "text/x-python",
   "name": "python",
   "nbconvert_exporter": "python",
   "pygments_lexer": "ipython3",
   "version": "3.6.8"
  }
 },
 "nbformat": 4,
 "nbformat_minor": 2
}
