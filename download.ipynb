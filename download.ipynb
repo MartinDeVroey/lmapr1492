{
 "cells": [
  {
   "cell_type": "markdown",
   "metadata": {},
   "source": [
    "# Tâche 4: Télechargement du fichier CIF"
   ]
  },
  {
   "cell_type": "code",
   "execution_count": 1,
   "metadata": {},
   "outputs": [],
   "source": [
    "from pymatgen.ext.matproj import MPRester\n",
    "from pymatgen.io.cif import CifWriter\n",
    "\n",
    "# Clé API MP\n",
    "with MPRester(\"1ziZTLbVkqHKwpma \") as m:\n",
    "\n",
    "    # Structure du matériau mp-7575\n",
    "    structure = m.get_structure_by_material_id(\"mp-7575\")\n",
    "\n",
    "# Création du fichier CIF\n",
    "w = CifWriter(structure,0.1)\n",
    "w.write_file('LiZnN_mp-7575_symmetrized.cif')"
   ]
  }
 ],
 "metadata": {
  "kernelspec": {
   "display_name": "Python 3",
   "language": "python",
   "name": "python3"
  },
  "language_info": {
   "codemirror_mode": {
    "name": "ipython",
    "version": 3
   },
   "file_extension": ".py",
   "mimetype": "text/x-python",
   "name": "python",
   "nbconvert_exporter": "python",
   "pygments_lexer": "ipython3",
   "version": "3.6.8"
  }
 },
 "nbformat": 4,
 "nbformat_minor": 2
}
